{
 "cells": [
  {
   "cell_type": "markdown",
   "metadata": {},
   "source": [
    "## Movie Review"
   ]
  },
  {
   "cell_type": "code",
   "execution_count": null,
   "metadata": {
    "collapsed": false
   },
   "outputs": [],
   "source": [
    "# %load load_sentiment.py\n",
    "\n",
    "def load_sentiment_file(filename):\n",
    "    f = open(filename)\n",
    "    X = list()\n",
    "    for line in f:\n",
    "        X.append(line.strip().split(\" \"))\n",
    "    return X\n",
    "\n",
    "def load_sentiment_corpus(filepath):\n",
    "    pos_filename =  dirpath + \"rt-polarity.pos\"\n",
    "    neg_filename =  dirpath + \"rt-polarity.neg\"\n",
    "    \n",
    "    X_pos = load_sentiment_file(pos_filename)\n",
    "    X_neg = load_sentiment_file(neg_filename) \n",
    "    \n",
    "    Y_pos = [\"pos\"] * len(X_pos)\n",
    "    Y_neg = [\"neg\"] * len(X_neg)\n",
    "    \n",
    "    X = X_pos + X_neg\n",
    "    Y = Y_pos + Y_neg\n",
    "    \n",
    "    return (X,Y)\n",
    "\n",
    "def load_subjectivity_corpus(filepath):\n",
    "    quote_filename = dirpath + \"quote.tok.gt9.5000\"\n",
    "    plot_filename  = dirpath + \"plot.tok.gt9.5000\"\n",
    "    \n",
    "    X_quote = load_sentiment_file(quote_filename)\n",
    "    X_plot  = load_sentiment_file(plot_filename)\n",
    "    \n",
    "    Y_quote = [\"quote\"] * len(X_quote)\n",
    "    Y_plot =  [\"plot\"]  * len(X_plot)\n",
    "\n",
    "    X = X_quote + X_plot\n",
    "    Y = Y_quote + Y_plot\n",
    "    \n",
    "    return (X,Y)"
   ]
  },
  {
   "cell_type": "code",
   "execution_count": null,
   "metadata": {
    "collapsed": false
   },
   "outputs": [],
   "source": [
    "import numpy as np\n",
    "\n",
    "def build_dict(sentences):\n",
    "#    from collections import OrderedDict\n",
    "\n",
    "    '''\n",
    "    Build dictionary of train words\n",
    "    Outputs: \n",
    "     - Dictionary of word --> word index\n",
    "     - Dictionary of word --> word count freq\n",
    "    '''\n",
    "    print 'Building dictionary..',\n",
    "    wordcount = dict()\n",
    "    #For each worn in each sentence, cummulate frequency\n",
    "    for ss in sentences:\n",
    "        for w in ss:\n",
    "            if w not in wordcount:\n",
    "                wordcount[w] = 1\n",
    "            else:\n",
    "                wordcount[w] += 1\n",
    "\n",
    "    counts = wordcount.values() # List of frequencies\n",
    "    keys = wordcount.keys() #List of words\n",
    "    \n",
    "    sorted_idx = reversed(np.argsort(counts))\n",
    "    \n",
    "    worddict = dict()\n",
    "    for idx, ss in enumerate(sorted_idx):\n",
    "        worddict[keys[ss]] = idx+2  # leave 0 and 1 (UNK)\n",
    "    print np.sum(counts), ' total words ', len(keys), ' unique words'\n",
    "\n",
    "    return worddict, wordcount\n",
    "\n",
    "def generate_sequence(sentences, dictionary):\n",
    "    '''\n",
    "    Convert tokenized text in sequences of integers\n",
    "    '''\n",
    "    seqs = [None] * len(sentences)\n",
    "    for idx, ss in enumerate(sentences):\n",
    "        seqs[idx] = [dictionary[w] if w in dictionary else 1 for w in ss]\n",
    "\n",
    "    return seqs\n"
   ]
  },
  {
   "cell_type": "code",
   "execution_count": 7,
   "metadata": {
    "collapsed": false
   },
   "outputs": [],
   "source": [
    "# scikit-learn 0.18\n",
    "from sklearn.cross_validation import train_test_split\n",
    "\n",
    "# scikit-learn 0.18 \n",
    "# from sklearn.model_selection import train_test_split\n",
    "\n",
    "def load_sentiment_data(path):\n",
    "    (X,Y) = load_sentiment_corpus(dirpath)\n",
    "    X_train_sentences, X_test_sentences, y_train_label, y_test_label = train_test_split(X,Y, test_size = 0.1, random_state = 43)\n",
    "    \n",
    "    worddict, wordcount = build_dict(X_train_sentences)\n",
    "    \n",
    "    X_train = generate_sequence(X_train_sentences, worddict)\n",
    "    X_test  = generate_sequence(X_test_sentences, worddict)\n",
    "    \n",
    "    labels = set(y_train_label + y_test_label)\n",
    "    catdict = {label: idx for (idx, label) in enumerate(labels)}\n",
    "    \n",
    "    y_train = [catdict[y] for y in y_train_label]\n",
    "    y_test  = [catdict[y] for y in y_test_label]\n",
    "    \n",
    "    return X_train, X_test, y_train, y_test"
   ]
  },
  {
   "cell_type": "code",
   "execution_count": 10,
   "metadata": {
    "collapsed": false
   },
   "outputs": [
    {
     "name": "stdout",
     "output_type": "stream",
     "text": [
      "Building dictionary.. 201209  total words  20247  unique words\n"
     ]
    }
   ],
   "source": [
    "dirpath = \"/home/ec2-user/data/rt-polaritydata/\"\n",
    "\n",
    "X_train, X_test, Y_train, Y_test = load_sentiment_data(dirpath)"
   ]
  },
  {
   "cell_type": "code",
   "execution_count": 11,
   "metadata": {
    "collapsed": false
   },
   "outputs": [
    {
     "name": "stdout",
     "output_type": "stream",
     "text": [
      "('Num. classes:', 2)\n",
      "(9595, 'train sequences')\n",
      "(1067, 'test sequences')\n",
      "('Max length train', 56)\n",
      "('Max length tet', 59)\n"
     ]
    }
   ],
   "source": [
    "nb_classes = len(set(Y_train + Y_test))\n",
    "print('Num. classes:', nb_classes)\n",
    "print(len(X_train), 'train sequences')\n",
    "print(len(X_test), 'test sequences')\n",
    "\n",
    "maxlen_train = max([len(x) for x in X_train])\n",
    "maxlen_test  = max([len(x) for x in X_test])\n",
    "print('Max length train', maxlen_train)\n",
    "print('Max length tet', maxlen_test)"
   ]
  },
  {
   "cell_type": "code",
   "execution_count": 12,
   "metadata": {
    "collapsed": true
   },
   "outputs": [],
   "source": [
    "max_features = 30000\n",
    "maxlen = 60  \n",
    "batch_size = 32"
   ]
  },
  {
   "cell_type": "code",
   "execution_count": 13,
   "metadata": {
    "collapsed": false
   },
   "outputs": [
    {
     "name": "stderr",
     "output_type": "stream",
     "text": [
      "Using Theano backend.\n",
      "Using gpu device 0: GRID K520 (CNMeM is disabled, cuDNN 5103)\n"
     ]
    },
    {
     "name": "stdout",
     "output_type": "stream",
     "text": [
      "Pad sequences (samples x time)\n",
      "('X_train shape:', (9595, 60))\n",
      "('X_test shape:', (1067, 60))\n"
     ]
    }
   ],
   "source": [
    "from keras.preprocessing import sequence\n",
    "\n",
    "print('Pad sequences (samples x time)')\n",
    "X_train = sequence.pad_sequences(X_train, maxlen=maxlen)\n",
    "X_test = sequence.pad_sequences(X_test, maxlen=maxlen)\n",
    "print('X_train shape:', X_train.shape)\n",
    "print('X_test shape:', X_test.shape)"
   ]
  },
  {
   "cell_type": "code",
   "execution_count": 14,
   "metadata": {
    "collapsed": false
   },
   "outputs": [],
   "source": [
    "# %load models.py\n",
    "\n",
    "from keras.utils import np_utils\n",
    "\n",
    "from keras.preprocessing import sequence\n",
    "from keras.models import Sequential\n",
    "from keras.layers import Dense, Dropout, Activation, Flatten\n",
    "from keras.layers import Embedding\n",
    "from keras.layers import Convolution1D, MaxPooling1D\n",
    "from keras.layers import LSTM, GRU, SimpleRNN\n",
    "#from keras.layers import Input, Bidirectional\n",
    "\n",
    "def build_lstm(max_features, embedding_dims, nb_classes):  \n",
    "   model = Sequential()\n",
    "\n",
    "   model.add(Embedding(max_features, 128, dropout=0.2))\n",
    "   model.add(LSTM(128, dropout_W=0.2, dropout_U=0.2)) \n",
    "   model.add(Dense(nb_classes))\n",
    "   model.add(Activation('softmax'))\n",
    "\n",
    "   return model\n",
    "\n",
    "\n",
    "def build_cnn(embedding_dims, maxlen, nb_filter, filter_length, hidden_dims, nb_classes ) : \n",
    "    model = Sequential()\n",
    "    # we start off with an efficient embedding layer which maps\n",
    "    # our vocab indices into embedding_dims dimensions\n",
    "    model.add(Embedding(max_features,\n",
    "                    embedding_dims,\n",
    "                    input_length=maxlen,\n",
    "                    dropout=0.2))\n",
    "\n",
    "    # we add a Convolution1D, which will learn nb_filter\n",
    "    # word group filters of size filter_length:\n",
    "    model.add(Convolution1D(nb_filter=nb_filter,\n",
    "                        filter_length=filter_length,\n",
    "                        border_mode='valid',\n",
    "                        activation='relu',\n",
    "                        subsample_length=1))\n",
    "    # we use max pooling:\n",
    "    model.add(MaxPooling1D(pool_length=model.output_shape[1]))\n",
    "\n",
    "    # We flatten the output of the conv layer,\n",
    "    # so that we can add a vanilla dense layer:\n",
    "    model.add(Flatten())\n",
    "\n",
    "    # We add a vanilla hidden layer:\n",
    "    model.add(Dense(hidden_dims))\n",
    "    model.add(Dropout(0.2))\n",
    "    model.add(Activation('relu'))\n",
    "\n",
    "    # We project onto a single unit output layer, and squash it with a sigmoid:\n",
    "    model.add(Dense(nb_classes))\n",
    "    model.add(Activation('softmax'))\n",
    "    \n",
    "    return model\n",
    "\n",
    "\n",
    "def build_cnn_lstm(embedding_size, maxlen, nb_filter, filter_length, pool_length, lstm_output_size, nb_classes):\n",
    "    model = Sequential()\n",
    "    model.add(Embedding(max_features, embedding_size, input_length=maxlen))\n",
    "    model.add(Dropout(0.25))\n",
    "    model.add(Convolution1D(nb_filter=nb_filter,\n",
    "                        filter_length=filter_length,\n",
    "                        border_mode='valid',\n",
    "                        activation='relu',\n",
    "                        subsample_length=1))\n",
    "    model.add(MaxPooling1D(pool_length=pool_length))\n",
    "    model.add(LSTM(lstm_output_size))\n",
    "    model.add(Dense(nb_classes))\n",
    "    model.add(Activation('softmax'))\n",
    "     \n",
    "    return model     \n",
    "\n",
    "#def build_bidirectional_lstm(embedding_dims, lstm_output_size, nb_classes):\n",
    "#    model = Sequential()\n",
    "#    model.add(Embedding(max_features, embedding_dims, input_length=maxlen))\n",
    "#    model.add(Bidirectional(LSTM(lstm_output_size)))\n",
    "#    model.add(Dropout(0.5))\n",
    "#    model.add(Dense(nb_classes, activation='softmax'))\n",
    "    \n",
    "#    return model"
   ]
  },
  {
   "cell_type": "code",
   "execution_count": 15,
   "metadata": {
    "collapsed": false
   },
   "outputs": [
    {
     "name": "stdout",
     "output_type": "stream",
     "text": [
      "Convert class vector to binary class matrix (for use with categorical_crossentropy)\n",
      "('Y_train shape:', (9595, 2))\n",
      "('Y_test shape:', (1067, 2))\n"
     ]
    }
   ],
   "source": [
    "from keras.utils import np_utils\n",
    "\n",
    "print('Convert class vector to binary class matrix (for use with categorical_crossentropy)')\n",
    "Y_train = np_utils.to_categorical(Y_train, nb_classes)\n",
    "Y_test = np_utils.to_categorical(Y_test, nb_classes)\n",
    "print('Y_train shape:', Y_train.shape)\n",
    "print('Y_test shape:', Y_test.shape)"
   ]
  },
  {
   "cell_type": "code",
   "execution_count": 16,
   "metadata": {
    "collapsed": false
   },
   "outputs": [
    {
     "name": "stdout",
     "output_type": "stream",
     "text": [
      "____________________________________________________________________________________________________\n",
      "Layer (type)                     Output Shape          Param #     Connected to                     \n",
      "====================================================================================================\n",
      "embedding_1 (Embedding)          (None, None, 128)     3840000     embedding_input_1[0][0]          \n",
      "____________________________________________________________________________________________________\n",
      "lstm_1 (LSTM)                    (None, 128)           131584      embedding_1[0][0]                \n",
      "____________________________________________________________________________________________________\n",
      "dense_1 (Dense)                  (None, 2)             258         lstm_1[0][0]                     \n",
      "____________________________________________________________________________________________________\n",
      "activation_1 (Activation)        (None, 2)             0           dense_1[0][0]                    \n",
      "====================================================================================================\n",
      "Total params: 3,971,842\n",
      "Trainable params: 3,971,842\n",
      "Non-trainable params: 0\n",
      "____________________________________________________________________________________________________\n"
     ]
    }
   ],
   "source": [
    "model = build_lstm(max_features, 128, nb_classes)\n",
    "model.summary()"
   ]
  },
  {
   "cell_type": "code",
   "execution_count": 17,
   "metadata": {
    "collapsed": true
   },
   "outputs": [],
   "source": [
    "model.compile(loss='categorical_crossentropy',\n",
    "              optimizer='adam',\n",
    "              metrics=['accuracy'])\n"
   ]
  },
  {
   "cell_type": "code",
   "execution_count": null,
   "metadata": {
    "collapsed": false
   },
   "outputs": [
    {
     "name": "stdout",
     "output_type": "stream",
     "text": [
      "Train...\n"
     ]
    }
   ],
   "source": [
    "print('Train...')\n",
    "model.fit(X_train, Y_train, batch_size=batch_size, nb_epoch=15,\n",
    "          validation_data=(X_test, Y_test))\n",
    "score, acc = model.evaluate(X_test, Y_test,\n",
    "                            batch_size=batch_size)\n",
    "print('Test score:', score)\n",
    "print('Test accuracy:', acc)"
   ]
  },
  {
   "cell_type": "code",
   "execution_count": null,
   "metadata": {
    "collapsed": true
   },
   "outputs": [],
   "source": []
  }
 ],
 "metadata": {
  "anaconda-cloud": {},
  "kernelspec": {
   "display_name": "Python 2",
   "language": "python",
   "name": "python2"
  },
  "language_info": {
   "codemirror_mode": {
    "name": "ipython",
    "version": 2
   },
   "file_extension": ".py",
   "mimetype": "text/x-python",
   "name": "python",
   "nbconvert_exporter": "python",
   "pygments_lexer": "ipython2",
   "version": "2.7.12"
  }
 },
 "nbformat": 4,
 "nbformat_minor": 2
}
