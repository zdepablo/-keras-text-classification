{
 "cells": [
  {
   "cell_type": "markdown",
   "metadata": {},
   "source": [
    "## Movie Review"
   ]
  },
  {
   "cell_type": "code",
   "execution_count": 37,
   "metadata": {
    "collapsed": true
   },
   "outputs": [],
   "source": [
    "from load_sentiment import load_sentiment_data\n",
    "from text_utils import build_dict, generate_sequence\n",
    "from models import build_lstm"
   ]
  },
  {
   "cell_type": "code",
   "execution_count": 32,
   "metadata": {
    "collapsed": false
   },
   "outputs": [],
   "source": [
    "# %load load_sentiment.py\n",
    "\n",
    "# scikit-learn 0.18\n",
    "from sklearn.cross_validation import train_test_split\n",
    "from text_utils import build_dict, generate_sequence\n",
    "\n",
    "# scikit-learn 0.18 \n",
    "# from sklearn.model_selection import train_test_split\n",
    "\n",
    "def load_sentiment_file(filename):\n",
    "    f = open(filename)\n",
    "    X = list()\n",
    "    for line in f:\n",
    "        X.append(line.strip().split(\" \"))\n",
    "    return X\n",
    "\n",
    "def load_sentiment_corpus(dirpath):\n",
    "    pos_filename =  dirpath + \"rt-polarity.pos\"\n",
    "    neg_filename =  dirpath + \"rt-polarity.neg\"\n",
    "    \n",
    "    X_pos = load_sentiment_file(pos_filename)\n",
    "    X_neg = load_sentiment_file(neg_filename) \n",
    "    \n",
    "    Y_pos = [\"pos\"] * len(X_pos)\n",
    "    Y_neg = [\"neg\"] * len(X_neg)\n",
    "    \n",
    "    X = X_pos + X_neg\n",
    "    Y = Y_pos + Y_neg\n",
    "    \n",
    "    return (X,Y)\n",
    "\n",
    "def load_subjectivity_corpus(dirpath):\n",
    "    quote_filename = dirpath + \"quote.tok.gt9.5000\"\n",
    "    plot_filename  = dirpath + \"plot.tok.gt9.5000\"\n",
    "    \n",
    "    X_quote = load_sentiment_file(quote_filename)\n",
    "    X_plot  = load_sentiment_file(plot_filename)\n",
    "    \n",
    "    Y_quote = [\"quote\"] * len(X_quote)\n",
    "    Y_plot =  [\"plot\"]  * len(X_plot)\n",
    "\n",
    "    X = X_quote + X_plot\n",
    "    Y = Y_quote + Y_plot\n",
    "    \n",
    "    return (X,Y)\n",
    "\n",
    "def load_sentiment_data(dirpath, max_tokens = 0):\n",
    "    (X,Y) = load_sentiment_corpus(dirpath)\n",
    "    X_train_sentences, X_test_sentences, y_train_label, y_test_label = train_test_split(X,Y, test_size = 0.1, random_state = 43)\n",
    "    \n",
    "    worddict, wordcount = build_dict(X_train_sentences)\n",
    "    \n",
    "    if (max_tokens > 0 ):\n",
    "        filterdict = {k:v for k,v in worddict.iteritems() if v < max_tokens } \n",
    "    else: \n",
    "        filterdict = worddict\n",
    "        \n",
    "    print 'Filtering to', (len(filterdict) + 2) , ' unique words'\n",
    "    \n",
    "    X_train = generate_sequence(X_train_sentences, filterdict)\n",
    "    X_test  = generate_sequence(X_test_sentences, filterdict)\n",
    "    \n",
    "    labels = set(y_train_label + y_test_label)\n",
    "    catdict = {label: idx for (idx, label) in enumerate(labels)}\n",
    "    \n",
    "    y_train = [catdict[y] for y in y_train_label]\n",
    "    y_test  = [catdict[y] for y in y_test_label]\n",
    "    \n",
    "    return X_train, X_test, y_train, y_test, worddict"
   ]
  },
  {
   "cell_type": "code",
   "execution_count": 33,
   "metadata": {
    "collapsed": false
   },
   "outputs": [
    {
     "name": "stdout",
     "output_type": "stream",
     "text": [
      "Building dictionary.. 201209  total words  20247  unique words\n",
      "Filtering to 10000  unique words\n"
     ]
    }
   ],
   "source": [
    "dirpath = \"/home/ec2-user/data/rt-polaritydata/\"\n",
    "max_features = 10000\n",
    "\n",
    "X_train, X_test, Y_train, Y_test, worddict = load_sentiment_data(dirpath, max_tokens=max_features)"
   ]
  },
  {
   "cell_type": "code",
   "execution_count": 34,
   "metadata": {
    "collapsed": false
   },
   "outputs": [
    {
     "name": "stdout",
     "output_type": "stream",
     "text": [
      "('Num. classes:', 2)\n",
      "(9595, 'train sequences')\n",
      "(1067, 'test sequences')\n",
      "('Max length train', 56)\n",
      "('Max length tet', 59)\n"
     ]
    }
   ],
   "source": [
    "nb_classes = len(set(Y_train + Y_test))\n",
    "print('Num. classes:', nb_classes)\n",
    "print(len(X_train), 'train sequences')\n",
    "print(len(X_test), 'test sequences')\n",
    "\n",
    "maxlen_train = max([len(x) for x in X_train])\n",
    "maxlen_test  = max([len(x) for x in X_test])\n",
    "print('Max length train', maxlen_train)\n",
    "print('Max length tet', maxlen_test)"
   ]
  },
  {
   "cell_type": "code",
   "execution_count": 35,
   "metadata": {
    "collapsed": true
   },
   "outputs": [],
   "source": [
    "maxlen = 60  \n",
    "batch_size = 32"
   ]
  },
  {
   "cell_type": "code",
   "execution_count": 36,
   "metadata": {
    "collapsed": false
   },
   "outputs": [
    {
     "name": "stderr",
     "output_type": "stream",
     "text": [
      "Using Theano backend.\n",
      "Using gpu device 0: GRID K520 (CNMeM is disabled, cuDNN 5103)\n"
     ]
    },
    {
     "name": "stdout",
     "output_type": "stream",
     "text": [
      "Pad sequences (samples x time)\n",
      "('X_train shape:', (9595, 60))\n",
      "('X_test shape:', (1067, 60))\n"
     ]
    }
   ],
   "source": [
    "from keras.preprocessing import sequence\n",
    "\n",
    "print('Pad sequences (samples x time)')\n",
    "X_train = sequence.pad_sequences(X_train, maxlen=maxlen)\n",
    "X_test = sequence.pad_sequences(X_test, maxlen=maxlen)\n",
    "print('X_train shape:', X_train.shape)\n",
    "print('X_test shape:', X_test.shape)"
   ]
  },
  {
   "cell_type": "code",
   "execution_count": 38,
   "metadata": {
    "collapsed": false
   },
   "outputs": [
    {
     "name": "stdout",
     "output_type": "stream",
     "text": [
      "Convert class vector to binary class matrix (for use with categorical_crossentropy)\n",
      "('Y_train shape:', (9595, 2))\n",
      "('Y_test shape:', (1067, 2))\n"
     ]
    }
   ],
   "source": [
    "from keras.utils import np_utils\n",
    "\n",
    "print('Convert class vector to binary class matrix (for use with categorical_crossentropy)')\n",
    "Y_train = np_utils.to_categorical(Y_train, nb_classes)\n",
    "Y_test = np_utils.to_categorical(Y_test, nb_classes)\n",
    "print('Y_train shape:', Y_train.shape)\n",
    "print('Y_test shape:', Y_test.shape)"
   ]
  },
  {
   "cell_type": "code",
   "execution_count": 39,
   "metadata": {
    "collapsed": false
   },
   "outputs": [
    {
     "name": "stdout",
     "output_type": "stream",
     "text": [
      "____________________________________________________________________________________________________\n",
      "Layer (type)                     Output Shape          Param #     Connected to                     \n",
      "====================================================================================================\n",
      "embedding_1 (Embedding)          (None, None, 128)     1280000     embedding_input_1[0][0]          \n",
      "____________________________________________________________________________________________________\n",
      "lstm_1 (LSTM)                    (None, 128)           131584      embedding_1[0][0]                \n",
      "____________________________________________________________________________________________________\n",
      "dense_1 (Dense)                  (None, 2)             258         lstm_1[0][0]                     \n",
      "____________________________________________________________________________________________________\n",
      "activation_1 (Activation)        (None, 2)             0           dense_1[0][0]                    \n",
      "====================================================================================================\n",
      "Total params: 1,411,842\n",
      "Trainable params: 1,411,842\n",
      "Non-trainable params: 0\n",
      "____________________________________________________________________________________________________\n"
     ]
    }
   ],
   "source": [
    "model = build_lstm(max_features, 128, nb_classes)\n",
    "model.summary()"
   ]
  },
  {
   "cell_type": "code",
   "execution_count": 40,
   "metadata": {
    "collapsed": true
   },
   "outputs": [],
   "source": [
    "model.compile(loss='categorical_crossentropy',\n",
    "              optimizer='adam',\n",
    "              metrics=['accuracy'])\n"
   ]
  },
  {
   "cell_type": "code",
   "execution_count": null,
   "metadata": {
    "collapsed": false
   },
   "outputs": [
    {
     "name": "stdout",
     "output_type": "stream",
     "text": [
      "Train...\n"
     ]
    }
   ],
   "source": [
    "print('Train...')\n",
    "model.fit(X_train, Y_train, batch_size=batch_size, nb_epoch=15,\n",
    "          validation_data=(X_test, Y_test))\n",
    "score, acc = model.evaluate(X_test, Y_test,\n",
    "                            batch_size=batch_size)\n",
    "print('Test score:', score)\n",
    "print('Test accuracy:', acc)"
   ]
  },
  {
   "cell_type": "code",
   "execution_count": null,
   "metadata": {
    "collapsed": true
   },
   "outputs": [],
   "source": []
  }
 ],
 "metadata": {
  "anaconda-cloud": {},
  "kernelspec": {
   "display_name": "Python 2",
   "language": "python",
   "name": "python2"
  },
  "language_info": {
   "codemirror_mode": {
    "name": "ipython",
    "version": 2
   },
   "file_extension": ".py",
   "mimetype": "text/x-python",
   "name": "python",
   "nbconvert_exporter": "python",
   "pygments_lexer": "ipython2",
   "version": "2.7.12"
  }
 },
 "nbformat": 4,
 "nbformat_minor": 2
}
