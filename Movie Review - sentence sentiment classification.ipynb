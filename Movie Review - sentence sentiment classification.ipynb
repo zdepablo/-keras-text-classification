{
 "cells": [
  {
   "cell_type": "markdown",
   "metadata": {},
   "source": [
    "## Movie Review"
   ]
  },
  {
   "cell_type": "code",
   "execution_count": 1,
   "metadata": {
    "collapsed": false
   },
   "outputs": [
    {
     "name": "stderr",
     "output_type": "stream",
     "text": [
      "Using Theano backend.\n",
      "Using gpu device 0: GRID K520 (CNMeM is disabled, cuDNN 5103)\n"
     ]
    }
   ],
   "source": [
    "from load_sentiment import load_sentiment_data\n",
    "from text_utils import build_dict, generate_sequence\n",
    "from models import build_lstm, build_cnn, build_cnn_lstm, build_bidirectional_lstm"
   ]
  },
  {
   "cell_type": "code",
   "execution_count": 2,
   "metadata": {
    "collapsed": false
   },
   "outputs": [
    {
     "name": "stdout",
     "output_type": "stream",
     "text": [
      "Building dictionary.. 201209  total words  20247  unique words\n",
      "Filtering to 10000  unique words\n"
     ]
    }
   ],
   "source": [
    "dirpath = \"/home/ec2-user/data/rt-polaritydata/\"\n",
    "max_features = 10000\n",
    "\n",
    "X_train, X_test, Y_train, Y_test, worddict = load_sentiment_data(dirpath, max_tokens=max_features)"
   ]
  },
  {
   "cell_type": "code",
   "execution_count": 3,
   "metadata": {
    "collapsed": false
   },
   "outputs": [
    {
     "name": "stdout",
     "output_type": "stream",
     "text": [
      "('Num. classes:', 2)\n",
      "(9595, 'train sequences')\n",
      "(1067, 'test sequences')\n",
      "('Max length train', 56)\n",
      "('Max length tet', 59)\n"
     ]
    }
   ],
   "source": [
    "nb_classes = len(set(Y_train + Y_test))\n",
    "print('Num. classes:', nb_classes)\n",
    "print(len(X_train), 'train sequences')\n",
    "print(len(X_test), 'test sequences')\n",
    "\n",
    "maxlen_train = max([len(x) for x in X_train])\n",
    "maxlen_test  = max([len(x) for x in X_test])\n",
    "print('Max length train', maxlen_train)\n",
    "print('Max length tet', maxlen_test)"
   ]
  },
  {
   "cell_type": "code",
   "execution_count": 4,
   "metadata": {
    "collapsed": true
   },
   "outputs": [],
   "source": [
    "maxlen = 60  \n",
    "batch_size = 32"
   ]
  },
  {
   "cell_type": "code",
   "execution_count": 5,
   "metadata": {
    "collapsed": false
   },
   "outputs": [
    {
     "name": "stdout",
     "output_type": "stream",
     "text": [
      "Pad sequences (samples x time)\n",
      "('X_train shape:', (9595, 60))\n",
      "('X_test shape:', (1067, 60))\n"
     ]
    }
   ],
   "source": [
    "from keras.preprocessing import sequence\n",
    "\n",
    "print('Pad sequences (samples x time)')\n",
    "X_train = sequence.pad_sequences(X_train, maxlen=maxlen)\n",
    "X_test = sequence.pad_sequences(X_test, maxlen=maxlen)\n",
    "print('X_train shape:', X_train.shape)\n",
    "print('X_test shape:', X_test.shape)"
   ]
  },
  {
   "cell_type": "code",
   "execution_count": 6,
   "metadata": {
    "collapsed": false
   },
   "outputs": [
    {
     "name": "stdout",
     "output_type": "stream",
     "text": [
      "Convert class vector to binary class matrix (for use with categorical_crossentropy)\n",
      "('Y_train shape:', (9595, 2))\n",
      "('Y_test shape:', (1067, 2))\n"
     ]
    }
   ],
   "source": [
    "from keras.utils import np_utils\n",
    "\n",
    "print('Convert class vector to binary class matrix (for use with categorical_crossentropy)')\n",
    "Y_train = np_utils.to_categorical(Y_train, nb_classes)\n",
    "Y_test = np_utils.to_categorical(Y_test, nb_classes)\n",
    "print('Y_train shape:', Y_train.shape)\n",
    "print('Y_test shape:', Y_test.shape)"
   ]
  },
  {
   "cell_type": "code",
   "execution_count": 22,
   "metadata": {
    "collapsed": false
   },
   "outputs": [
    {
     "name": "stdout",
     "output_type": "stream",
     "text": [
      "____________________________________________________________________________________________________\n",
      "Layer (type)                     Output Shape          Param #     Connected to                     \n",
      "====================================================================================================\n",
      "embedding_4 (Embedding)          (None, None, 16)      160000      embedding_input_4[0][0]          \n",
      "____________________________________________________________________________________________________\n",
      "lstm_3 (LSTM)                    (None, 16)            2112        embedding_4[0][0]                \n",
      "____________________________________________________________________________________________________\n",
      "dense_5 (Dense)                  (None, 2)             34          lstm_3[0][0]                     \n",
      "____________________________________________________________________________________________________\n",
      "activation_5 (Activation)        (None, 2)             0           dense_5[0][0]                    \n",
      "====================================================================================================\n",
      "Total params: 162146\n",
      "____________________________________________________________________________________________________\n"
     ]
    }
   ],
   "source": [
    "model = build_lstm(max_features, 16, nb_classes)\n",
    "model.summary()"
   ]
  },
  {
   "cell_type": "code",
   "execution_count": 23,
   "metadata": {
    "collapsed": true
   },
   "outputs": [],
   "source": [
    "model.compile(loss='categorical_crossentropy',\n",
    "              optimizer='adam',\n",
    "              metrics=['accuracy'])\n"
   ]
  },
  {
   "cell_type": "code",
   "execution_count": 24,
   "metadata": {
    "collapsed": false
   },
   "outputs": [
    {
     "name": "stdout",
     "output_type": "stream",
     "text": [
      "Train...\n",
      "Train on 9595 samples, validate on 1067 samples\n",
      "Epoch 1/10\n",
      "9595/9595 [==============================] - 53s - loss: 0.6882 - acc: 0.5378 - val_loss: 0.6689 - val_acc: 0.6532\n",
      "Epoch 2/10\n",
      "9595/9595 [==============================] - 50s - loss: 0.5724 - acc: 0.7209 - val_loss: 0.5207 - val_acc: 0.7535\n",
      "Epoch 3/10\n",
      "9595/9595 [==============================] - 48s - loss: 0.4253 - acc: 0.8100 - val_loss: 0.5040 - val_acc: 0.7582\n",
      "Epoch 4/10\n",
      "9595/9595 [==============================] - 46s - loss: 0.3371 - acc: 0.8585 - val_loss: 0.5323 - val_acc: 0.7554\n",
      "Epoch 5/10\n",
      "9595/9595 [==============================] - 46s - loss: 0.2918 - acc: 0.8757 - val_loss: 0.5461 - val_acc: 0.7582\n",
      "Epoch 6/10\n",
      "9595/9595 [==============================] - 48s - loss: 0.2567 - acc: 0.8960 - val_loss: 0.5626 - val_acc: 0.7573\n",
      "Epoch 7/10\n",
      "9595/9595 [==============================] - 50s - loss: 0.2287 - acc: 0.9101 - val_loss: 0.6040 - val_acc: 0.7479\n",
      "Epoch 8/10\n",
      "9595/9595 [==============================] - 47s - loss: 0.2098 - acc: 0.9172 - val_loss: 0.6123 - val_acc: 0.7470\n",
      "Epoch 9/10\n",
      "9595/9595 [==============================] - 54s - loss: 0.1909 - acc: 0.9242 - val_loss: 0.6565 - val_acc: 0.7470\n",
      "Epoch 10/10\n",
      "9595/9595 [==============================] - 55s - loss: 0.1756 - acc: 0.9293 - val_loss: 0.6647 - val_acc: 0.7366\n",
      "1067/1067 [==============================] - 2s     \n",
      "('Test score:', 0.66465318152696706)\n",
      "('Test accuracy:', 0.73664479844460673)\n"
     ]
    }
   ],
   "source": [
    "print('Train...')\n",
    "history = model.fit(X_train, Y_train, batch_size=batch_size, nb_epoch=10,\n",
    "          validation_data=(X_test, Y_test))\n",
    "score, acc = model.evaluate(X_test, Y_test,\n",
    "                            batch_size=batch_size)\n",
    "print('Test score:', score)\n",
    "print('Test accuracy:', acc)"
   ]
  },
  {
   "cell_type": "code",
   "execution_count": 25,
   "metadata": {
    "collapsed": false
   },
   "outputs": [
    {
     "data": {
      "image/png": "[encoded data removed]",
      "text/plain": [
       "<matplotlib.figure.Figure at 0x7f8d69a98750>"
      ]
     },
     "metadata": {},
     "output_type": "display_data"
    }
   ],
   "source": [
    "#Plot graphs in the notebook output\n",
    "import matplotlib.pyplot as plt\n",
    "%matplotlib inline\n",
    "\n",
    "plt.plot(history.history['acc'])\n",
    "plt.plot(history.history['val_acc'])\n",
    "plt.show()"
   ]
  },
  {
   "cell_type": "markdown",
   "metadata": {},
   "source": [
    "- Hay claros signos de sobreentrenamiento cuando usamos 64 neuronas intermedias \n",
    "- Con 32 neuronas las curvas de aprendizaje tienen mejor pinta, si bien probamos con mas épocas \n",
    "- con 16 neuronas no es mucho mejor"
   ]
  },
  {
   "cell_type": "markdown",
   "metadata": {},
   "source": [
    "## CNN"
   ]
  },
  {
   "cell_type": "code",
   "execution_count": 53,
   "metadata": {
    "collapsed": false
   },
   "outputs": [
    {
     "name": "stdout",
     "output_type": "stream",
     "text": [
      "Build model...\n"
     ]
    }
   ],
   "source": [
    "# set parameters:\n",
    "embedding_dims = 16 # size of embedding dims\n",
    "nb_filter = 65      # number of filters \n",
    "filter_length = 5    # 1d convolution size\n",
    "hidden_dims = 50    # size of hidden layers \n",
    "\n",
    "\n",
    "print('Build model...')\n",
    "cnn_model = build_cnn(max_features,embedding_dims, maxlen, nb_filter, filter_length, hidden_dims, nb_classes )"
   ]
  },
  {
   "cell_type": "code",
   "execution_count": 54,
   "metadata": {
    "collapsed": false
   },
   "outputs": [
    {
     "name": "stdout",
     "output_type": "stream",
     "text": [
      "____________________________________________________________________________________________________\n",
      "Layer (type)                     Output Shape          Param #     Connected to                     \n",
      "====================================================================================================\n",
      "embedding_10 (Embedding)         (None, 60, 16)        160000      embedding_input_10[0][0]         \n",
      "____________________________________________________________________________________________________\n",
      "convolution1d_7 (Convolution1D)  (None, 56, 65)        5265        embedding_10[0][0]               \n",
      "____________________________________________________________________________________________________\n",
      "maxpooling1d_7 (MaxPooling1D)    (None, 1, 65)         0           convolution1d_7[0][0]            \n",
      "____________________________________________________________________________________________________\n",
      "flatten_7 (Flatten)              (None, 65)            0           maxpooling1d_7[0][0]             \n",
      "____________________________________________________________________________________________________\n",
      "dense_16 (Dense)                 (None, 50)            3300        flatten_7[0][0]                  \n",
      "____________________________________________________________________________________________________\n",
      "dropout_7 (Dropout)              (None, 50)            0           dense_16[0][0]                   \n",
      "____________________________________________________________________________________________________\n",
      "activation_16 (Activation)       (None, 50)            0           dropout_7[0][0]                  \n",
      "____________________________________________________________________________________________________\n",
      "dense_17 (Dense)                 (None, 2)             102         activation_16[0][0]              \n",
      "____________________________________________________________________________________________________\n",
      "activation_17 (Activation)       (None, 2)             0           dense_17[0][0]                   \n",
      "====================================================================================================\n",
      "Total params: 168667\n",
      "____________________________________________________________________________________________________\n"
     ]
    }
   ],
   "source": [
    "cnn_model.summary()"
   ]
  },
  {
   "cell_type": "code",
   "execution_count": 55,
   "metadata": {
    "collapsed": true
   },
   "outputs": [],
   "source": [
    "cnn_model.compile(loss='binary_crossentropy',\n",
    "              optimizer='adam',\n",
    "              metrics=['accuracy'])"
   ]
  },
  {
   "cell_type": "code",
   "execution_count": 56,
   "metadata": {
    "collapsed": false
   },
   "outputs": [
    {
     "name": "stdout",
     "output_type": "stream",
     "text": [
      "Train on 9595 samples, validate on 1067 samples\n",
      "Epoch 1/5\n",
      "9595/9595 [==============================] - 1s - loss: 0.6550 - acc: 0.5898 - val_loss: 0.5553 - val_acc: 0.7329\n",
      "Epoch 2/5\n",
      "9595/9595 [==============================] - 1s - loss: 0.4705 - acc: 0.7749 - val_loss: 0.4932 - val_acc: 0.7582\n",
      "Epoch 3/5\n",
      "9595/9595 [==============================] - 1s - loss: 0.3457 - acc: 0.8494 - val_loss: 0.4892 - val_acc: 0.7760\n",
      "Epoch 4/5\n",
      "9595/9595 [==============================] - 1s - loss: 0.2589 - acc: 0.8946 - val_loss: 0.5283 - val_acc: 0.7610\n",
      "Epoch 5/5\n",
      "9595/9595 [==============================] - 1s - loss: 0.2047 - acc: 0.9193 - val_loss: 0.5833 - val_acc: 0.7610\n"
     ]
    }
   ],
   "source": [
    "nb_epoch = 5\n",
    "\n",
    "history = cnn_model.fit(X_train, Y_train,\n",
    "          batch_size=batch_size,\n",
    "          nb_epoch=nb_epoch,\n",
    "          validation_data=(X_test, Y_test))"
   ]
  },
  {
   "cell_type": "code",
   "execution_count": 57,
   "metadata": {
    "collapsed": false
   },
   "outputs": [
    {
     "data": {
      "image/png": "[encoded data removed]",
      "text/plain": [
       "<matplotlib.figure.Figure at 0x7f8d6ab23990>"
      ]
     },
     "metadata": {},
     "output_type": "display_data"
    }
   ],
   "source": [
    "plt.plot(history.history['acc'])\n",
    "plt.plot(history.history['val_acc'])\n",
    "plt.show()"
   ]
  },
  {
   "cell_type": "code",
   "execution_count": 58,
   "metadata": {
    "collapsed": false
   },
   "outputs": [
    {
     "data": {
      "image/png": "[encoded data removed]",
      "text/plain": [
       "<matplotlib.figure.Figure at 0x7f8d67bd6ad0>"
      ]
     },
     "metadata": {},
     "output_type": "display_data"
    }
   ],
   "source": [
    "plt.plot(history.history['loss'])\n",
    "plt.plot(history.history['val_loss'])\n",
    "plt.show()"
   ]
  },
  {
   "cell_type": "code",
   "execution_count": null,
   "metadata": {
    "collapsed": true
   },
   "outputs": [],
   "source": []
  }
 ],
 "metadata": {
  "anaconda-cloud": {},
  "kernelspec": {
   "display_name": "Python 2",
   "language": "python",
   "name": "python2"
  },
  "language_info": {
   "codemirror_mode": {
    "name": "ipython",
    "version": 2
   },
   "file_extension": ".py",
   "mimetype": "text/x-python",
   "name": "python",
   "nbconvert_exporter": "python",
   "pygments_lexer": "ipython2",
   "version": "2.7.12"
  }
 },
 "nbformat": 4,
 "nbformat_minor": 2
}
