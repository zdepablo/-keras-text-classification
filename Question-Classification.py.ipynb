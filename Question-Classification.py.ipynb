{
 "cells": [
  {
   "cell_type": "markdown",
   "metadata": {},
   "source": [
    "## Question Classification Dataset\n",
    "\n",
    "http://cogcomp.cs.illinois.edu/Data/QA/QC/\n"
   ]
  },
  {
   "cell_type": "code",
   "execution_count": 1,
   "metadata": {
    "collapsed": true
   },
   "outputs": [],
   "source": [
    "def split_question(question):\n",
    "    q = question.strip().split(\" \")\n",
    "    return (q[0],q[1:])\n",
    "\n",
    "split_question(\"LOC:other What is the longest suspension bridge in the U.S. ?\\n\")\n",
    "\n",
    "def load_question_file(filename):\n",
    "    f = open(filename)\n",
    "    X = list()\n",
    "    Y = list()\n",
    "    for line in f:\n",
    "        (y,x) = split_question(line)\n",
    "        Y.append(y)\n",
    "        X.append(x)\n",
    "    return (Y,X)\n",
    "    "
   ]
  },
  {
   "cell_type": "code",
   "execution_count": 2,
   "metadata": {
    "collapsed": true
   },
   "outputs": [],
   "source": [
    "path = \"/home/ec2-user/data/qc/\"\n",
    "(Y_train_full,X_train_sentences) = load_question_file(path + \"train_5500.label\")\n",
    "(Y_test_full,X_test_sentences) = load_question_file(path + \"TREC_10.label\")"
   ]
  },
  {
   "cell_type": "code",
   "execution_count": 3,
   "metadata": {
    "collapsed": false
   },
   "outputs": [],
   "source": [
    "import numpy as np\n",
    "\n",
    "def build_dict(sentences):\n",
    "#    from collections import OrderedDict\n",
    "\n",
    "    '''\n",
    "    Build dictionary of train words\n",
    "    Outputs: \n",
    "     - Dictionary of word --> word index\n",
    "     - Dictionary of word --> word count freq\n",
    "    '''\n",
    "    print 'Building dictionary..',\n",
    "    wordcount = dict()\n",
    "    #For each worn in each sentence, cummulate frequency\n",
    "    for ss in sentences:\n",
    "        for w in ss:\n",
    "            if w not in wordcount:\n",
    "                wordcount[w] = 1\n",
    "            else:\n",
    "                wordcount[w] += 1\n",
    "\n",
    "    counts = wordcount.values() # List of frequencies\n",
    "    keys = wordcount.keys() #List of words\n",
    "    \n",
    "    sorted_idx = reversed(np.argsort(counts))\n",
    "    \n",
    "    worddict = dict()\n",
    "    for idx, ss in enumerate(sorted_idx):\n",
    "        worddict[keys[ss]] = idx+2  # leave 0 and 1 (UNK)\n",
    "    print np.sum(counts), ' total words ', len(keys), ' unique words'\n",
    "\n",
    "    return worddict, wordcount"
   ]
  },
  {
   "cell_type": "code",
   "execution_count": 4,
   "metadata": {
    "collapsed": false
   },
   "outputs": [
    {
     "name": "stdout",
     "output_type": "stream",
     "text": [
      "Building dictionary.. 55635  total words  9448  unique words\n",
      "(3, 3611)\n"
     ]
    }
   ],
   "source": [
    "worddict, wordcount = build_dict(X_train_sentences)\n",
    "\n",
    "print(worddict['the'], wordcount['the'])\n"
   ]
  },
  {
   "cell_type": "code",
   "execution_count": 5,
   "metadata": {
    "collapsed": false
   },
   "outputs": [],
   "source": [
    "def generate_sequence(sentences, dictionary):\n",
    "    '''\n",
    "    Convert tokenized text in sequences of integers\n",
    "    '''\n",
    "    seqs = [None] * len(sentences)\n",
    "    for idx, ss in enumerate(sentences):\n",
    "        seqs[idx] = [dictionary[w] if w in dictionary else 1 for w in ss]\n",
    "\n",
    "    return seqs"
   ]
  },
  {
   "cell_type": "code",
   "execution_count": 6,
   "metadata": {
    "collapsed": false
   },
   "outputs": [],
   "source": [
    "X_train = generate_sequence(X_train_sentences, worddict)\n",
    "X_test  = generate_sequence(X_test_sentences, worddict)"
   ]
  },
  {
   "cell_type": "code",
   "execution_count": 7,
   "metadata": {
    "collapsed": false
   },
   "outputs": [
    {
     "data": {
      "text/plain": [
       "('ENT', 'Person')"
      ]
     },
     "execution_count": 7,
     "metadata": {},
     "output_type": "execute_result"
    }
   ],
   "source": [
    "def parse_label(label):\n",
    "    t = label.split(\":\")\n",
    "    return (t[0],t[1])\n",
    "\n",
    "parse_label(\"ENT:Person\")"
   ]
  },
  {
   "cell_type": "code",
   "execution_count": 8,
   "metadata": {
    "collapsed": false
   },
   "outputs": [],
   "source": [
    "Y_train = [parse_label(y)[0]  for y in Y_train_full]\n",
    "Y_test  = [parse_label(y)[0]  for y in Y_test_full]"
   ]
  },
  {
   "cell_type": "code",
   "execution_count": null,
   "metadata": {
    "collapsed": true
   },
   "outputs": [],
   "source": [
    "labels = set(Y_train + Y_test)"
   ]
  },
  {
   "cell_type": "code",
   "execution_count": 24,
   "metadata": {
    "collapsed": true
   },
   "outputs": [],
   "source": [
    "catdict = {label: idx for (idx, label) in enumerate(labels)}"
   ]
  },
  {
   "cell_type": "code",
   "execution_count": 27,
   "metadata": {
    "collapsed": false
   },
   "outputs": [
    {
     "name": "stdout",
     "output_type": "stream",
     "text": [
      "6\n"
     ]
    }
   ],
   "source": [
    "nb_classes = len(labels)\n",
    "print(nb_classes)"
   ]
  },
  {
   "cell_type": "code",
   "execution_count": 31,
   "metadata": {
    "collapsed": false
   },
   "outputs": [],
   "source": [
    "Y_train = [catdict[y] for y in Y_train]\n",
    "Y_test  = [catdict[y] for y in Y_test]"
   ]
  },
  {
   "cell_type": "code",
   "execution_count": 32,
   "metadata": {
    "collapsed": false
   },
   "outputs": [
    {
     "name": "stdout",
     "output_type": "stream",
     "text": [
      "(5452, 'train sequences')\n",
      "(500, 'test sequences')\n"
     ]
    }
   ],
   "source": [
    "print(len(X_train), 'train sequences')\n",
    "print(len(X_test), 'test sequences')"
   ]
  },
  {
   "cell_type": "code",
   "execution_count": 33,
   "metadata": {
    "collapsed": false
   },
   "outputs": [
    {
     "name": "stdout",
     "output_type": "stream",
     "text": [
      "37\n",
      "17\n"
     ]
    }
   ],
   "source": [
    "maxlen_train = max([len(x) for x in X_train])\n",
    "maxlen_test  = max([len(x) for x in X_test])\n",
    "\n",
    "print(maxlen_train)\n",
    "print(maxlen_test)"
   ]
  },
  {
   "cell_type": "code",
   "execution_count": 34,
   "metadata": {
    "collapsed": false
   },
   "outputs": [],
   "source": [
    "max_features = 10000\n",
    "maxlen = 30  # cut texts after this number of words (among top max_features most common words)\n",
    "batch_size = 32"
   ]
  },
  {
   "cell_type": "code",
   "execution_count": 35,
   "metadata": {
    "collapsed": false
   },
   "outputs": [
    {
     "name": "stderr",
     "output_type": "stream",
     "text": [
      "Using Theano backend.\n",
      "Using gpu device 0: Tesla K80 (CNMeM is disabled, cuDNN 5103)\n"
     ]
    }
   ],
   "source": [
    "from keras.preprocessing import sequence\n",
    "from keras.utils import np_utils\n",
    "from keras.models import Sequential\n",
    "from keras.layers import Dense, Dropout, Activation, Embedding\n",
    "from keras.layers import LSTM, SimpleRNN, GRU"
   ]
  },
  {
   "cell_type": "code",
   "execution_count": 36,
   "metadata": {
    "collapsed": false
   },
   "outputs": [
    {
     "name": "stdout",
     "output_type": "stream",
     "text": [
      "Pad sequences (samples x time)\n",
      "('X_train shape:', (5452, 30))\n",
      "('X_test shape:', (500, 30))\n"
     ]
    }
   ],
   "source": [
    "print('Pad sequences (samples x time)')\n",
    "X_train = sequence.pad_sequences(X_train, maxlen=maxlen)\n",
    "X_test = sequence.pad_sequences(X_test, maxlen=maxlen)\n",
    "print('X_train shape:', X_train.shape)\n",
    "print('X_test shape:', X_test.shape)"
   ]
  },
  {
   "cell_type": "code",
   "execution_count": 37,
   "metadata": {
    "collapsed": false
   },
   "outputs": [
    {
     "name": "stdout",
     "output_type": "stream",
     "text": [
      "Convert class vector to binary class matrix (for use with categorical_crossentropy)\n",
      "('Y_train shape:', (5452, 6))\n",
      "('Y_test shape:', (500, 6))\n"
     ]
    }
   ],
   "source": [
    "from keras.utils import np_utils\n",
    "\n",
    "\n",
    "print('Convert class vector to binary class matrix (for use with categorical_crossentropy)')\n",
    "Y_train = np_utils.to_categorical(Y_train, nb_classes)\n",
    "Y_test = np_utils.to_categorical(Y_test, nb_classes)\n",
    "print('Y_train shape:', Y_train.shape)\n",
    "print('Y_test shape:', Y_test.shape)"
   ]
  },
  {
   "cell_type": "code",
   "execution_count": 38,
   "metadata": {
    "collapsed": false
   },
   "outputs": [
    {
     "name": "stdout",
     "output_type": "stream",
     "text": [
      "Build model...\n"
     ]
    }
   ],
   "source": [
    "print('Build model...')\n",
    "model = Sequential()\n",
    "model.add(Embedding(max_features, 128, dropout=0.2))\n",
    "model.add(LSTM(128, dropout_W=0.2, dropout_U=0.2))  # try using a GRU instead, for fun\n",
    "model.add(Dense(nb_classes))\n",
    "model.add(Activation('softmax'))"
   ]
  },
  {
   "cell_type": "code",
   "execution_count": 39,
   "metadata": {
    "collapsed": false
   },
   "outputs": [
    {
     "name": "stdout",
     "output_type": "stream",
     "text": [
      "____________________________________________________________________________________________________\n",
      "Layer (type)                     Output Shape          Param #     Connected to                     \n",
      "====================================================================================================\n",
      "embedding_1 (Embedding)          (None, None, 128)     1280000     embedding_input_1[0][0]          \n",
      "____________________________________________________________________________________________________\n",
      "lstm_1 (LSTM)                    (None, 128)           131584      embedding_1[0][0]                \n",
      "____________________________________________________________________________________________________\n",
      "dense_1 (Dense)                  (None, 6)             774         lstm_1[0][0]                     \n",
      "____________________________________________________________________________________________________\n",
      "activation_1 (Activation)        (None, 6)             0           dense_1[0][0]                    \n",
      "====================================================================================================\n",
      "Total params: 1,412,358\n",
      "Trainable params: 1,412,358\n",
      "Non-trainable params: 0\n",
      "____________________________________________________________________________________________________\n"
     ]
    }
   ],
   "source": [
    "model.summary()"
   ]
  },
  {
   "cell_type": "code",
   "execution_count": 40,
   "metadata": {
    "collapsed": true
   },
   "outputs": [],
   "source": [
    "model.compile(loss='categorical_crossentropy',\n",
    "              optimizer='adam',\n",
    "              metrics=['accuracy'])\n"
   ]
  },
  {
   "cell_type": "code",
   "execution_count": 41,
   "metadata": {
    "collapsed": false
   },
   "outputs": [
    {
     "name": "stdout",
     "output_type": "stream",
     "text": [
      "Train...\n",
      "Train on 5452 samples, validate on 500 samples\n",
      "Epoch 1/15\n",
      "5452/5452 [==============================] - 10s - loss: 1.4929 - acc: 0.3639 - val_loss: 0.9529 - val_acc: 0.6500\n",
      "Epoch 2/15\n",
      "5452/5452 [==============================] - 10s - loss: 0.7414 - acc: 0.7461 - val_loss: 0.5390 - val_acc: 0.8540\n",
      "Epoch 3/15\n",
      "5452/5452 [==============================] - 10s - loss: 0.4333 - acc: 0.8599 - val_loss: 0.4034 - val_acc: 0.8720\n",
      "Epoch 4/15\n",
      "5452/5452 [==============================] - 10s - loss: 0.2961 - acc: 0.9055 - val_loss: 0.4080 - val_acc: 0.8800\n",
      "Epoch 5/15\n",
      "5452/5452 [==============================] - 10s - loss: 0.2243 - acc: 0.9338 - val_loss: 0.4117 - val_acc: 0.8880\n",
      "Epoch 6/15\n",
      "5452/5452 [==============================] - 10s - loss: 0.1725 - acc: 0.9474 - val_loss: 0.4373 - val_acc: 0.8720\n",
      "Epoch 7/15\n",
      "5452/5452 [==============================] - 10s - loss: 0.1575 - acc: 0.9523 - val_loss: 0.5075 - val_acc: 0.8580\n",
      "Epoch 8/15\n",
      "5452/5452 [==============================] - 10s - loss: 0.1400 - acc: 0.9576 - val_loss: 0.4332 - val_acc: 0.8860\n",
      "Epoch 9/15\n",
      "5452/5452 [==============================] - 9s - loss: 0.1213 - acc: 0.9596 - val_loss: 0.4804 - val_acc: 0.8740\n",
      "Epoch 10/15\n",
      "5452/5452 [==============================] - 10s - loss: 0.1180 - acc: 0.9639 - val_loss: 0.4225 - val_acc: 0.8840\n",
      "Epoch 11/15\n",
      "5452/5452 [==============================] - 10s - loss: 0.1048 - acc: 0.9681 - val_loss: 0.4766 - val_acc: 0.8720\n",
      "Epoch 12/15\n",
      "5452/5452 [==============================] - 10s - loss: 0.0932 - acc: 0.9696 - val_loss: 0.4807 - val_acc: 0.8760\n",
      "Epoch 13/15\n",
      "5452/5452 [==============================] - 10s - loss: 0.1029 - acc: 0.9679 - val_loss: 0.5265 - val_acc: 0.8620\n",
      "Epoch 14/15\n",
      "5452/5452 [==============================] - 10s - loss: 0.0897 - acc: 0.9694 - val_loss: 0.4941 - val_acc: 0.8780\n",
      "Epoch 15/15\n",
      "5452/5452 [==============================] - 10s - loss: 0.0917 - acc: 0.9714 - val_loss: 0.4866 - val_acc: 0.8740\n",
      "500/500 [==============================] - 0s     \n",
      "('Test score:', 0.48655916881561279)\n",
      "('Test accuracy:', 0.874)\n"
     ]
    }
   ],
   "source": [
    "print('Train...')\n",
    "model.fit(X_train, Y_train, batch_size=batch_size, nb_epoch=15,\n",
    "          validation_data=(X_test, Y_test))\n",
    "score, acc = model.evaluate(X_test, Y_test,\n",
    "                            batch_size=batch_size)\n",
    "print('Test score:', score)\n",
    "print('Test accuracy:', acc)"
   ]
  },
  {
   "cell_type": "code",
   "execution_count": null,
   "metadata": {
    "collapsed": true
   },
   "outputs": [],
   "source": []
  }
 ],
 "metadata": {
  "kernelspec": {
   "display_name": "Python 2",
   "language": "python",
   "name": "python2"
  },
  "language_info": {
   "codemirror_mode": {
    "name": "ipython",
    "version": 2
   },
   "file_extension": ".py",
   "mimetype": "text/x-python",
   "name": "python",
   "nbconvert_exporter": "python",
   "pygments_lexer": "ipython2",
   "version": "2.7.12"
  }
 },
 "nbformat": 4,
 "nbformat_minor": 1
}
