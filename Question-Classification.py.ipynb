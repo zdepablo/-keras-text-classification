{
 "cells": [
  {
   "cell_type": "markdown",
   "metadata": {},
   "source": [
    "## Question Classification Dataset\n",
    "\n",
    "http://cogcomp.cs.illinois.edu/Data/QA/QC/\n"
   ]
  },
  {
   "cell_type": "code",
   "execution_count": 67,
   "metadata": {
    "collapsed": false
   },
   "outputs": [
    {
     "name": "stdout",
     "output_type": "stream",
     "text": [
      "Overwriting load_qc.py\n"
     ]
    }
   ],
   "source": [
    "%%file load_qc.py\n",
    "## Question Classification Dataset\n",
    "## http://cogcomp.cs.illinois.edu/Data/QA/QC/\n",
    "\n",
    "import numpy as np\n",
    "\n",
    "def split_question(question):\n",
    "    q = question.strip().split(\" \")\n",
    "    return (q[0],q[1:])\n",
    "file\n",
    "\n",
    "def load_question_file(filename):\n",
    "    f = open(filename)\n",
    "    X = list()\n",
    "    Y = list()\n",
    "    for line in f:\n",
    "        (y,x) = split_question(line)\n",
    "        Y.append(y)\n",
    "        X.append(x)\n",
    "    return (Y,X)\n",
    "\n",
    "def build_dict(sentences):\n",
    "#    from collections import OrderedDict\n",
    "\n",
    "    '''\n",
    "    Build dictionary of train words\n",
    "    Outputs: \n",
    "     - Dictionary of word --> word index\n",
    "     - Dictionary of word --> word count freq\n",
    "    '''\n",
    "    print 'Building dictionary..',\n",
    "    wordcount = dict()\n",
    "    #For each worn in each sentence, cummulate frequency\n",
    "    for ss in sentences:\n",
    "        for w in ss:\n",
    "            if w not in wordcount:\n",
    "                wordcount[w] = 1\n",
    "            else:\n",
    "                wordcount[w] += 1\n",
    "\n",
    "    counts = wordcount.values() # List of frequencies\n",
    "    keys = wordcount.keys() #List of words\n",
    "    \n",
    "    sorted_idx = reversed(np.argsort(counts))\n",
    "    \n",
    "    worddict = dict()\n",
    "    for idx, ss in enumerate(sorted_idx):\n",
    "        worddict[keys[ss]] = idx+2  # leave 0 and 1 (UNK)\n",
    "    print np.sum(counts), ' total words ', len(keys), ' unique words'\n",
    "\n",
    "    return worddict, wordcount\n",
    "\n",
    "def generate_sequence(sentences, dictionary):\n",
    "    '''\n",
    "    Convert tokenized text in sequences of integers\n",
    "    '''\n",
    "    seqs = [None] * len(sentences)\n",
    "    for idx, ss in enumerate(sentences):\n",
    "        seqs[idx] = [dictionary[w] if w in dictionary else 1 for w in ss]\n",
    "\n",
    "    return seqs\n",
    "\n",
    "def parse_label(label):\n",
    "    t = label.split(\":\")\n",
    "    return (t[0],t[1])\n",
    "\n",
    "def load_corpus(path): \n",
    "    (Y_train_full,X_train_sentences) = load_question_file(path + \"train_5500.label\")\n",
    "    (Y_test_full,X_test_sentences) = load_question_file(path + \"TREC_10.label\")\n",
    "    return (Y_train_full,X_train_sentences), (Y_test_full,X_test_sentences)\n",
    "\n",
    "def load_data(path): \n",
    "    (Y_train_full,X_train_sentences), (Y_test_full,X_test_sentences) = load_corpus(path)\n",
    "    worddict, wordcount = build_dict(X_train_sentences)\n",
    "    \n",
    "    X_train = generate_sequence(X_train_sentences, worddict)\n",
    "    X_test  = generate_sequence(X_test_sentences, worddict)\n",
    "    \n",
    "    Y_train_label = [parse_label(y)[0]  for y in Y_train_full]\n",
    "    Y_test_label  = [parse_label(y)[0]  for y in Y_test_full]\n",
    "    \n",
    "    labels = set(Y_train_label + Y_test_label)\n",
    "    catdict = {label: idx for (idx, label) in enumerate(labels)}\n",
    "    \n",
    "    Y_train = [catdict[y] for y in Y_train_label]\n",
    "    Y_test  = [catdict[y] for y in Y_test_label]\n",
    "    \n",
    "    return (Y_train,X_train), (Y_test,X_test)\n"
   ]
  },
  {
   "cell_type": "code",
   "execution_count": 68,
   "metadata": {
    "collapsed": false
   },
   "outputs": [
    {
     "name": "stdout",
     "output_type": "stream",
     "text": [
      "Building dictionary.. 55635  total words  9448  unique words\n"
     ]
    }
   ],
   "source": [
    "path = \"/home/ec2-user/data/qc/\"\n",
    "(Y_train,X_train), (Y_test,X_test) = load_data(path)"
   ]
  },
  {
   "cell_type": "code",
   "execution_count": 69,
   "metadata": {
    "collapsed": false
   },
   "outputs": [
    {
     "name": "stdout",
     "output_type": "stream",
     "text": [
      "('Num. classes:', 6)\n",
      "(5452, 'train sequences')\n",
      "(500, 'test sequences')\n",
      "('Max length train', 37)\n",
      "('Max length tet', 17)\n"
     ]
    }
   ],
   "source": [
    "nb_classes = len(set(Y_train + Y_test))\n",
    "print('Num. classes:', nb_classes)\n",
    "print(len(X_train), 'train sequences')\n",
    "print(len(X_test), 'test sequences')\n",
    "\n",
    "maxlen_train = max([len(x) for x in X_train])\n",
    "maxlen_test  = max([len(x) for x in X_test])\n",
    "print('Max length train', maxlen_train)\n",
    "print('Max length tet', maxlen_test)"
   ]
  },
  {
   "cell_type": "code",
   "execution_count": 70,
   "metadata": {
    "collapsed": false
   },
   "outputs": [
    {
     "name": "stdout",
     "output_type": "stream",
     "text": [
      "Pad sequences (samples x time)\n",
      "('X_train shape:', (5452, 30))\n",
      "('X_test shape:', (500, 30))\n"
     ]
    }
   ],
   "source": [
    "print('Pad sequences (samples x time)')\n",
    "X_train = sequence.pad_sequences(X_train, maxlen=maxlen)\n",
    "X_test = sequence.pad_sequences(X_test, maxlen=maxlen)\n",
    "print('X_train shape:', X_train.shape)\n",
    "print('X_test shape:', X_test.shape)"
   ]
  },
  {
   "cell_type": "code",
   "execution_count": 71,
   "metadata": {
    "collapsed": false
   },
   "outputs": [
    {
     "name": "stdout",
     "output_type": "stream",
     "text": [
      "Convert class vector to binary class matrix (for use with categorical_crossentropy)\n",
      "('Y_train shape:', (5452, 6))\n",
      "('Y_test shape:', (500, 6))\n"
     ]
    }
   ],
   "source": [
    "from keras.utils import np_utils\n",
    "\n",
    "print('Convert class vector to binary class matrix (for use with categorical_crossentropy)')\n",
    "Y_train = np_utils.to_categorical(Y_train, nb_classes)\n",
    "Y_test = np_utils.to_categorical(Y_test, nb_classes)\n",
    "print('Y_train shape:', Y_train.shape)\n",
    "print('Y_test shape:', Y_test.shape)"
   ]
  },
  {
   "cell_type": "markdown",
   "metadata": {},
   "source": [
    "## Load models"
   ]
  },
  {
   "cell_type": "code",
   "execution_count": null,
   "metadata": {
    "collapsed": false,
    "scrolled": true
   },
   "outputs": [],
   "source": [
    "# %load models.py\n",
    "\n",
    "from keras.utils import np_utils\n",
    "\n",
    "from keras.preprocessing import sequence\n",
    "from keras.models import Sequential\n",
    "from keras.layers import Dense, Dropout, Activation, Flatten\n",
    "from keras.layers import Embedding\n",
    "from keras.layers import Convolution1D, MaxPooling1D\n",
    "from keras.layers import LSTM, GRU, SimpleRNN\n",
    "from keras.layers import Input, Bidirectional\n",
    "\n",
    "def build_lstm(max_features, embedding_dims, nb_classes):  \n",
    "   model = Sequential()\n",
    "\n",
    "   model.add(Embedding(max_features, 128, dropout=0.2))\n",
    "   model.add(LSTM(128, dropout_W=0.2, dropout_U=0.2)) \n",
    "   model.add(Dense(nb_classes))\n",
    "   model.add(Activation('softmax'))\n",
    "\n",
    "   return model\n",
    "\n",
    "\n",
    "def build_cnn(embedding_dims, maxlen, nb_filter, filter_length, hidden_dims, nb_classes ) : \n",
    "    model = Sequential()\n",
    "    # we start off with an efficient embedding layer which maps\n",
    "    # our vocab indices into embedding_dims dimensions\n",
    "    model.add(Embedding(max_features,\n",
    "                    embedding_dims,\n",
    "                    input_length=maxlen,\n",
    "                    dropout=0.2))\n",
    "\n",
    "    # we add a Convolution1D, which will learn nb_filter\n",
    "    # word group filters of size filter_length:\n",
    "    model.add(Convolution1D(nb_filter=nb_filter,\n",
    "                        filter_length=filter_length,\n",
    "                        border_mode='valid',\n",
    "                        activation='relu',\n",
    "                        subsample_length=1))\n",
    "    # we use max pooling:\n",
    "    model.add(MaxPooling1D(pool_length=model.output_shape[1]))\n",
    "\n",
    "    # We flatten the output of the conv layer,\n",
    "    # so that we can add a vanilla dense layer:\n",
    "    model.add(Flatten())\n",
    "\n",
    "    # We add a vanilla hidden layer:\n",
    "    model.add(Dense(hidden_dims))\n",
    "    model.add(Dropout(0.2))\n",
    "    model.add(Activation('relu'))\n",
    "\n",
    "    # We project onto a single unit output layer, and squash it with a sigmoid:\n",
    "    model.add(Dense(nb_classes))\n",
    "    model.add(Activation('softmax'))\n",
    "    \n",
    "    return model\n",
    "\n",
    "\n",
    "def build_cnn_lstm(embedding_size, maxlen, nb_filter, filter_length, pool_length, lstm_output_size, nb_classes):\n",
    "    model = Sequential()\n",
    "    model.add(Embedding(max_features, embedding_size, input_length=maxlen))\n",
    "    model.add(Dropout(0.25))\n",
    "    model.add(Convolution1D(nb_filter=nb_filter,\n",
    "                        filter_length=filter_length,\n",
    "                        border_mode='valid',\n",
    "                        activation='relu',\n",
    "                        subsample_length=1))\n",
    "    model.add(MaxPooling1D(pool_length=pool_length))\n",
    "    model.add(LSTM(lstm_output_size))\n",
    "    model.add(Dense(nb_classes))\n",
    "    model.add(Activation('softmax'))\n",
    "     \n",
    "    return model     \n",
    "\n",
    "def build_bidirectional_lstm(embedding_dims, lstm_output_size, nb_classes):\n",
    "    model = Sequential()\n",
    "    model.add(Embedding(max_features, embedding_dims, input_length=maxlen))\n",
    "    model.add(Bidirectional(LSTM(lstm_output_size)))\n",
    "    model.add(Dropout(0.5))\n",
    "    model.add(Dense(nb_classes, activation='softmax'))\n",
    "    \n",
    "    return model"
   ]
  },
  {
   "cell_type": "markdown",
   "metadata": {},
   "source": [
    "## LSTM "
   ]
  },
  {
   "cell_type": "code",
   "execution_count": 73,
   "metadata": {
    "collapsed": true
   },
   "outputs": [],
   "source": [
    "max_features = 10000\n",
    "maxlen = 30  # cut texts after this number of words (among top max_features most common words)\n",
    "batch_size = 32"
   ]
  },
  {
   "cell_type": "code",
   "execution_count": 74,
   "metadata": {
    "collapsed": false
   },
   "outputs": [
    {
     "name": "stdout",
     "output_type": "stream",
     "text": [
      "____________________________________________________________________________________________________\n",
      "Layer (type)                     Output Shape          Param #     Connected to                     \n",
      "====================================================================================================\n",
      "embedding_9 (Embedding)          (None, None, 128)     1280000     embedding_input_9[0][0]          \n",
      "____________________________________________________________________________________________________\n",
      "lstm_7 (LSTM)                    (None, 128)           131584      embedding_9[0][0]                \n",
      "____________________________________________________________________________________________________\n",
      "dense_10 (Dense)                 (None, 6)             774         lstm_7[0][0]                     \n",
      "____________________________________________________________________________________________________\n",
      "activation_9 (Activation)        (None, 6)             0           dense_10[0][0]                   \n",
      "====================================================================================================\n",
      "Total params: 1,412,358\n",
      "Trainable params: 1,412,358\n",
      "Non-trainable params: 0\n",
      "____________________________________________________________________________________________________\n"
     ]
    }
   ],
   "source": [
    "model = build_lstm(max_features, 128, nb_classes)\n",
    "model.summary()"
   ]
  },
  {
   "cell_type": "code",
   "execution_count": 75,
   "metadata": {
    "collapsed": false
   },
   "outputs": [],
   "source": [
    "model.compile(loss='categorical_crossentropy',\n",
    "              optimizer='adam',\n",
    "              metrics=['accuracy'])\n"
   ]
  },
  {
   "cell_type": "code",
   "execution_count": 76,
   "metadata": {
    "collapsed": false
   },
   "outputs": [
    {
     "name": "stdout",
     "output_type": "stream",
     "text": [
      "Train...\n",
      "Train on 5452 samples, validate on 500 samples\n",
      "Epoch 1/15\n",
      "5452/5452 [==============================] - 9s - loss: 1.5328 - acc: 0.3347 - val_loss: 1.0397 - val_acc: 0.6360\n",
      "Epoch 2/15\n",
      "5452/5452 [==============================] - 9s - loss: 0.8297 - acc: 0.7076 - val_loss: 0.5546 - val_acc: 0.8280\n",
      "Epoch 3/15\n",
      "5452/5452 [==============================] - 9s - loss: 0.4297 - acc: 0.8639 - val_loss: 0.4183 - val_acc: 0.8760\n",
      "Epoch 4/15\n",
      "5452/5452 [==============================] - 9s - loss: 0.2946 - acc: 0.9109 - val_loss: 0.4139 - val_acc: 0.8980\n",
      "Epoch 5/15\n",
      "5452/5452 [==============================] - 9s - loss: 0.2339 - acc: 0.9301 - val_loss: 0.3733 - val_acc: 0.8820\n",
      "Epoch 6/15\n",
      "5452/5452 [==============================] - 9s - loss: 0.1726 - acc: 0.9525 - val_loss: 0.4122 - val_acc: 0.8700\n",
      "Epoch 7/15\n",
      "5452/5452 [==============================] - 9s - loss: 0.1375 - acc: 0.9622 - val_loss: 0.4204 - val_acc: 0.8760\n",
      "Epoch 8/15\n",
      "5452/5452 [==============================] - 9s - loss: 0.1309 - acc: 0.9613 - val_loss: 0.4375 - val_acc: 0.8680\n",
      "Epoch 9/15\n",
      "5452/5452 [==============================] - 9s - loss: 0.1350 - acc: 0.9573 - val_loss: 0.4543 - val_acc: 0.8680\n",
      "Epoch 10/15\n",
      "5452/5452 [==============================] - 9s - loss: 0.1204 - acc: 0.9661 - val_loss: 0.4447 - val_acc: 0.8780\n",
      "Epoch 11/15\n",
      "5452/5452 [==============================] - 9s - loss: 0.0973 - acc: 0.9703 - val_loss: 0.5092 - val_acc: 0.8680\n",
      "Epoch 12/15\n",
      "5452/5452 [==============================] - 9s - loss: 0.1134 - acc: 0.9637 - val_loss: 0.4973 - val_acc: 0.8660\n",
      "Epoch 13/15\n",
      "5452/5452 [==============================] - 9s - loss: 0.0884 - acc: 0.9718 - val_loss: 0.4635 - val_acc: 0.8740\n",
      "Epoch 14/15\n",
      "5452/5452 [==============================] - 9s - loss: 0.0987 - acc: 0.9685 - val_loss: 0.5053 - val_acc: 0.8660\n",
      "Epoch 15/15\n",
      "5452/5452 [==============================] - 9s - loss: 0.0844 - acc: 0.9729 - val_loss: 0.5580 - val_acc: 0.8540\n",
      "500/500 [==============================] - 0s     \n",
      "('Test score:', 0.55800152397155767)\n",
      "('Test accuracy:', 0.85399999904632573)\n"
     ]
    }
   ],
   "source": [
    "print('Train...')\n",
    "model.fit(X_train, Y_train, batch_size=batch_size, nb_epoch=15,\n",
    "          validation_data=(X_test, Y_test))\n",
    "score, acc = model.evaluate(X_test, Y_test,\n",
    "                            batch_size=batch_size)\n",
    "print('Test score:', score)\n",
    "print('Test accuracy:', acc)"
   ]
  },
  {
   "cell_type": "markdown",
   "metadata": {},
   "source": [
    "## CNN"
   ]
  },
  {
   "cell_type": "code",
   "execution_count": 77,
   "metadata": {
    "collapsed": false
   },
   "outputs": [],
   "source": [
    "max_features = 10000 # vocabulary size\n",
    "maxlen =  30         # max document length \n",
    "batch_size = 32      # minibatch size  "
   ]
  },
  {
   "cell_type": "markdown",
   "metadata": {},
   "source": [
    "#### Parameters"
   ]
  },
  {
   "cell_type": "code",
   "execution_count": 78,
   "metadata": {
    "collapsed": false
   },
   "outputs": [],
   "source": [
    "# set parameters:\n",
    "embedding_dims = 128 # size of embedding dims\n",
    "nb_filter = 65      # number of filters \n",
    "filter_length = 5    # 1d convolution size\n",
    "hidden_dims = 250    # size of hidden layers "
   ]
  },
  {
   "cell_type": "code",
   "execution_count": 79,
   "metadata": {
    "collapsed": false
   },
   "outputs": [
    {
     "name": "stdout",
     "output_type": "stream",
     "text": [
      "____________________________________________________________________________________________________\n",
      "Layer (type)                     Output Shape          Param #     Connected to                     \n",
      "====================================================================================================\n",
      "embedding_10 (Embedding)         (None, 30, 128)       1280000     embedding_input_10[0][0]         \n",
      "____________________________________________________________________________________________________\n",
      "convolution1d_5 (Convolution1D)  (None, 26, 65)        41665       embedding_10[0][0]               \n",
      "____________________________________________________________________________________________________\n",
      "maxpooling1d_5 (MaxPooling1D)    (None, 1, 65)         0           convolution1d_5[0][0]            \n",
      "____________________________________________________________________________________________________\n",
      "flatten_3 (Flatten)              (None, 65)            0           maxpooling1d_5[0][0]             \n",
      "____________________________________________________________________________________________________\n",
      "dense_11 (Dense)                 (None, 250)           16500       flatten_3[0][0]                  \n",
      "____________________________________________________________________________________________________\n",
      "dropout_5 (Dropout)              (None, 250)           0           dense_11[0][0]                   \n",
      "____________________________________________________________________________________________________\n",
      "activation_10 (Activation)       (None, 250)           0           dropout_5[0][0]                  \n",
      "____________________________________________________________________________________________________\n",
      "dense_12 (Dense)                 (None, 6)             1506        activation_10[0][0]              \n",
      "____________________________________________________________________________________________________\n",
      "activation_11 (Activation)       (None, 6)             0           dense_12[0][0]                   \n",
      "====================================================================================================\n",
      "Total params: 1,339,671\n",
      "Trainable params: 1,339,671\n",
      "Non-trainable params: 0\n",
      "____________________________________________________________________________________________________\n"
     ]
    }
   ],
   "source": [
    "cnn_model = build_cnn(embedding_dims, maxlen, nb_filter, filter_length, hidden_dims, nb_classes)\n",
    "cnn_model.summary()"
   ]
  },
  {
   "cell_type": "code",
   "execution_count": 80,
   "metadata": {
    "collapsed": false
   },
   "outputs": [],
   "source": [
    "cnn_model.compile(loss='categorical_crossentropy',\n",
    "              optimizer='adam',\n",
    "              metrics=['accuracy'])\n"
   ]
  },
  {
   "cell_type": "code",
   "execution_count": 81,
   "metadata": {
    "collapsed": false
   },
   "outputs": [
    {
     "name": "stdout",
     "output_type": "stream",
     "text": [
      "Train...\n",
      "Train on 5452 samples, validate on 500 samples\n",
      "Epoch 1/15\n",
      "5452/5452 [==============================] - 1s - loss: 1.2554 - acc: 0.4956 - val_loss: 0.6761 - val_acc: 0.7740\n",
      "Epoch 2/15\n",
      "5452/5452 [==============================] - 1s - loss: 0.6236 - acc: 0.7823 - val_loss: 0.4582 - val_acc: 0.8540\n",
      "Epoch 3/15\n",
      "5452/5452 [==============================] - 1s - loss: 0.3563 - acc: 0.8819 - val_loss: 0.4013 - val_acc: 0.8680\n",
      "Epoch 4/15\n",
      "5452/5452 [==============================] - 1s - loss: 0.2119 - acc: 0.9292 - val_loss: 0.3486 - val_acc: 0.8880\n",
      "Epoch 5/15\n",
      "5452/5452 [==============================] - 1s - loss: 0.1650 - acc: 0.9475 - val_loss: 0.3363 - val_acc: 0.8920\n",
      "Epoch 6/15\n",
      "5452/5452 [==============================] - 1s - loss: 0.1383 - acc: 0.9569 - val_loss: 0.4174 - val_acc: 0.8740\n",
      "Epoch 7/15\n",
      "5452/5452 [==============================] - 1s - loss: 0.1189 - acc: 0.9611 - val_loss: 0.3994 - val_acc: 0.8840\n",
      "Epoch 8/15\n",
      "5452/5452 [==============================] - 1s - loss: 0.0954 - acc: 0.9688 - val_loss: 0.4433 - val_acc: 0.8780\n",
      "Epoch 9/15\n",
      "5452/5452 [==============================] - 1s - loss: 0.0871 - acc: 0.9705 - val_loss: 0.4017 - val_acc: 0.8940\n",
      "Epoch 10/15\n",
      "5452/5452 [==============================] - 1s - loss: 0.0737 - acc: 0.9765 - val_loss: 0.4356 - val_acc: 0.8880\n",
      "Epoch 11/15\n",
      "5452/5452 [==============================] - 1s - loss: 0.0799 - acc: 0.9749 - val_loss: 0.3808 - val_acc: 0.8800\n",
      "Epoch 12/15\n",
      "5452/5452 [==============================] - 1s - loss: 0.0771 - acc: 0.9754 - val_loss: 0.4574 - val_acc: 0.8760\n",
      "Epoch 13/15\n",
      "5452/5452 [==============================] - 1s - loss: 0.0654 - acc: 0.9780 - val_loss: 0.5020 - val_acc: 0.8620\n",
      "Epoch 14/15\n",
      "5452/5452 [==============================] - 1s - loss: 0.0620 - acc: 0.9798 - val_loss: 0.4815 - val_acc: 0.8760\n",
      "Epoch 15/15\n",
      "5452/5452 [==============================] - 1s - loss: 0.0598 - acc: 0.9771 - val_loss: 0.5283 - val_acc: 0.8600\n",
      "416/500 [=======================>......] - ETA: 0s('Test score:', 0.5283317537307739)\n",
      "('Test accuracy:', 0.86000000047683711)\n"
     ]
    }
   ],
   "source": [
    "print('Train...')\n",
    "cnn_model.fit(X_train, Y_train, batch_size=batch_size, nb_epoch=15,\n",
    "          validation_data=(X_test, Y_test))\n",
    "score, acc = cnn_model.evaluate(X_test, Y_test,\n",
    "                            batch_size=batch_size)\n",
    "print('Test score:', score)\n",
    "print('Test accuracy:', acc)"
   ]
  },
  {
   "cell_type": "markdown",
   "metadata": {},
   "source": [
    "## CNN - LSTM"
   ]
  },
  {
   "cell_type": "code",
   "execution_count": 82,
   "metadata": {
    "collapsed": true
   },
   "outputs": [],
   "source": [
    "pool_length = 4\n",
    "lstm_output_size = 70\n",
    "\n",
    "cnn_lstm_model = build_cnn_lstm(embedding_dims, \n",
    "                                maxlen, \n",
    "                                nb_filter, \n",
    "                                filter_length, \n",
    "                                pool_length, \n",
    "                                lstm_output_size, \n",
    "                                nb_classes)"
   ]
  },
  {
   "cell_type": "code",
   "execution_count": 83,
   "metadata": {
    "collapsed": false
   },
   "outputs": [
    {
     "name": "stdout",
     "output_type": "stream",
     "text": [
      "____________________________________________________________________________________________________\n",
      "Layer (type)                     Output Shape          Param #     Connected to                     \n",
      "====================================================================================================\n",
      "embedding_11 (Embedding)         (None, 30, 128)       1280000     embedding_input_11[0][0]         \n",
      "____________________________________________________________________________________________________\n",
      "dropout_6 (Dropout)              (None, 30, 128)       0           embedding_11[0][0]               \n",
      "____________________________________________________________________________________________________\n",
      "convolution1d_6 (Convolution1D)  (None, 26, 65)        41665       dropout_6[0][0]                  \n",
      "____________________________________________________________________________________________________\n",
      "maxpooling1d_6 (MaxPooling1D)    (None, 6, 65)         0           convolution1d_6[0][0]            \n",
      "____________________________________________________________________________________________________\n",
      "lstm_8 (LSTM)                    (None, 70)            38080       maxpooling1d_6[0][0]             \n",
      "____________________________________________________________________________________________________\n",
      "dense_13 (Dense)                 (None, 6)             426         lstm_8[0][0]                     \n",
      "____________________________________________________________________________________________________\n",
      "activation_12 (Activation)       (None, 6)             0           dense_13[0][0]                   \n",
      "====================================================================================================\n",
      "Total params: 1,360,171\n",
      "Trainable params: 1,360,171\n",
      "Non-trainable params: 0\n",
      "____________________________________________________________________________________________________\n"
     ]
    }
   ],
   "source": [
    "cnn_lstm_model.summary()"
   ]
  },
  {
   "cell_type": "code",
   "execution_count": 84,
   "metadata": {
    "collapsed": false
   },
   "outputs": [],
   "source": [
    "cnn_lstm_model.compile(loss='categorical_crossentropy',\n",
    "              optimizer='adam',\n",
    "              metrics=['accuracy'])\n"
   ]
  },
  {
   "cell_type": "code",
   "execution_count": 85,
   "metadata": {
    "collapsed": false
   },
   "outputs": [
    {
     "name": "stdout",
     "output_type": "stream",
     "text": [
      "Train...\n",
      "Train on 5452 samples, validate on 500 samples\n",
      "Epoch 1/15\n",
      "5452/5452 [==============================] - 3s - loss: 1.2916 - acc: 0.4855 - val_loss: 0.6424 - val_acc: 0.7480\n",
      "Epoch 2/15\n",
      "5452/5452 [==============================] - 3s - loss: 0.4649 - acc: 0.8485 - val_loss: 0.4631 - val_acc: 0.8560\n",
      "Epoch 3/15\n",
      "5452/5452 [==============================] - 3s - loss: 0.1925 - acc: 0.9433 - val_loss: 0.4217 - val_acc: 0.8640\n",
      "Epoch 4/15\n",
      "5452/5452 [==============================] - 3s - loss: 0.0842 - acc: 0.9773 - val_loss: 0.4047 - val_acc: 0.8740\n",
      "Epoch 5/15\n",
      "5452/5452 [==============================] - 3s - loss: 0.0441 - acc: 0.9881 - val_loss: 0.4854 - val_acc: 0.8540\n",
      "Epoch 6/15\n",
      "5452/5452 [==============================] - 3s - loss: 0.0285 - acc: 0.9938 - val_loss: 0.4785 - val_acc: 0.8720\n",
      "Epoch 7/15\n",
      "5452/5452 [==============================] - 3s - loss: 0.0181 - acc: 0.9952 - val_loss: 0.5027 - val_acc: 0.8680\n",
      "Epoch 8/15\n",
      "5452/5452 [==============================] - 3s - loss: 0.0173 - acc: 0.9958 - val_loss: 0.5174 - val_acc: 0.8580\n",
      "Epoch 9/15\n",
      "5452/5452 [==============================] - 3s - loss: 0.0125 - acc: 0.9967 - val_loss: 0.5400 - val_acc: 0.8600\n",
      "Epoch 10/15\n",
      "5452/5452 [==============================] - 3s - loss: 0.0147 - acc: 0.9960 - val_loss: 0.6118 - val_acc: 0.8500\n",
      "Epoch 11/15\n",
      "5452/5452 [==============================] - 3s - loss: 0.0136 - acc: 0.9963 - val_loss: 0.5688 - val_acc: 0.8580\n",
      "Epoch 12/15\n",
      "5452/5452 [==============================] - 3s - loss: 0.0118 - acc: 0.9971 - val_loss: 0.6761 - val_acc: 0.8520\n",
      "Epoch 13/15\n",
      "5452/5452 [==============================] - 3s - loss: 0.0111 - acc: 0.9969 - val_loss: 0.5941 - val_acc: 0.8640\n",
      "Epoch 14/15\n",
      "5452/5452 [==============================] - 3s - loss: 0.0119 - acc: 0.9965 - val_loss: 0.6681 - val_acc: 0.8600\n",
      "Epoch 15/15\n",
      "5452/5452 [==============================] - 3s - loss: 0.0100 - acc: 0.9969 - val_loss: 0.7084 - val_acc: 0.8520\n",
      "480/500 [===========================>..] - ETA: 0s('Test score:', 0.70843928050994875)\n",
      "('Test accuracy:', 0.8520000004768371)\n"
     ]
    }
   ],
   "source": [
    "print('Train...')\n",
    "cnn_lstm_model.fit(X_train, Y_train, batch_size=batch_size, nb_epoch=15,\n",
    "          validation_data=(X_test, Y_test))\n",
    "score, acc = cnn_lstm_model.evaluate(X_test, Y_test,\n",
    "                            batch_size=batch_size)\n",
    "print('Test score:', score)\n",
    "print('Test accuracy:', acc)"
   ]
  },
  {
   "cell_type": "markdown",
   "metadata": {},
   "source": [
    "## Bidirectional LSTM"
   ]
  },
  {
   "cell_type": "code",
   "execution_count": 88,
   "metadata": {
    "collapsed": false
   },
   "outputs": [
    {
     "name": "stdout",
     "output_type": "stream",
     "text": [
      "____________________________________________________________________________________________________\n",
      "Layer (type)                     Output Shape          Param #     Connected to                     \n",
      "====================================================================================================\n",
      "embedding_12 (Embedding)         (None, 30, 128)       1280000     embedding_input_12[0][0]         \n",
      "____________________________________________________________________________________________________\n",
      "bidirectional_1 (Bidirectional)  (None, 140)           111440      embedding_12[0][0]               \n",
      "____________________________________________________________________________________________________\n",
      "dropout_7 (Dropout)              (None, 140)           0           bidirectional_1[0][0]            \n",
      "____________________________________________________________________________________________________\n",
      "dense_14 (Dense)                 (None, 6)             846         dropout_7[0][0]                  \n",
      "====================================================================================================\n",
      "Total params: 1,392,286\n",
      "Trainable params: 1,392,286\n",
      "Non-trainable params: 0\n",
      "____________________________________________________________________________________________________\n"
     ]
    }
   ],
   "source": [
    "bilstm_model = build_bidirectional_lstm(embedding_dims, lstm_output_size, nb_classes)\n",
    "bilstm_model.summary()"
   ]
  },
  {
   "cell_type": "code",
   "execution_count": 89,
   "metadata": {
    "collapsed": true
   },
   "outputs": [],
   "source": [
    "bilstm_model.compile(loss='categorical_crossentropy',\n",
    "              optimizer='adam',\n",
    "              metrics=['accuracy'])"
   ]
  },
  {
   "cell_type": "code",
   "execution_count": 90,
   "metadata": {
    "collapsed": false
   },
   "outputs": [
    {
     "name": "stdout",
     "output_type": "stream",
     "text": [
      "Train...\n",
      "Train on 5452 samples, validate on 500 samples\n",
      "Epoch 1/15\n",
      "5452/5452 [==============================] - 15s - loss: 1.3271 - acc: 0.4582 - val_loss: 0.7474 - val_acc: 0.7500\n",
      "Epoch 2/15\n",
      "5452/5452 [==============================] - 15s - loss: 0.4848 - acc: 0.8434 - val_loss: 0.5468 - val_acc: 0.8260\n",
      "Epoch 3/15\n",
      "5452/5452 [==============================] - 15s - loss: 0.1718 - acc: 0.9534 - val_loss: 0.4817 - val_acc: 0.8620\n",
      "Epoch 4/15\n",
      "5452/5452 [==============================] - 15s - loss: 0.0866 - acc: 0.9776 - val_loss: 0.6549 - val_acc: 0.8360\n",
      "Epoch 5/15\n",
      "5452/5452 [==============================] - 15s - loss: 0.0537 - acc: 0.9872 - val_loss: 0.5324 - val_acc: 0.8740\n",
      "Epoch 6/15\n",
      "5452/5452 [==============================] - 15s - loss: 0.0317 - acc: 0.9923 - val_loss: 0.6299 - val_acc: 0.8520\n",
      "Epoch 7/15\n",
      "5452/5452 [==============================] - 15s - loss: 0.0181 - acc: 0.9961 - val_loss: 0.7442 - val_acc: 0.7540\n",
      "Epoch 8/15\n",
      "5452/5452 [==============================] - 15s - loss: 0.0110 - acc: 0.9974 - val_loss: 0.6320 - val_acc: 0.8720\n",
      "Epoch 9/15\n",
      "5452/5452 [==============================] - 15s - loss: 0.0109 - acc: 0.9971 - val_loss: 0.7827 - val_acc: 0.8520\n",
      "Epoch 10/15\n",
      "5452/5452 [==============================] - 15s - loss: 0.0099 - acc: 0.9965 - val_loss: 0.7210 - val_acc: 0.8540\n",
      "Epoch 11/15\n",
      "5452/5452 [==============================] - 15s - loss: 0.0103 - acc: 0.9972 - val_loss: 0.6944 - val_acc: 0.8600\n",
      "Epoch 12/15\n",
      "5452/5452 [==============================] - 15s - loss: 0.0178 - acc: 0.9947 - val_loss: 1.0793 - val_acc: 0.7320\n",
      "Epoch 13/15\n",
      "5452/5452 [==============================] - 15s - loss: 0.0399 - acc: 0.9883 - val_loss: 0.6996 - val_acc: 0.8420\n",
      "Epoch 14/15\n",
      "5452/5452 [==============================] - 15s - loss: 0.0192 - acc: 0.9938 - val_loss: 0.8796 - val_acc: 0.8220\n",
      "Epoch 15/15\n",
      "5452/5452 [==============================] - 15s - loss: 0.0059 - acc: 0.9983 - val_loss: 0.7201 - val_acc: 0.8560\n",
      "500/500 [==============================] - 0s     \n",
      "('Test score:', 0.72005670356750484)\n",
      "('Test accuracy:', 0.85600000095367434)\n"
     ]
    }
   ],
   "source": [
    "print('Train...')\n",
    "bilstm_model.fit(X_train, Y_train, batch_size=batch_size, nb_epoch=15,\n",
    "          validation_data=(X_test, Y_test))\n",
    "score, acc = bilstm_model.evaluate(X_test, Y_test,\n",
    "                            batch_size=batch_size)\n",
    "print('Test score:', score)\n",
    "print('Test accuracy:', acc)"
   ]
  },
  {
   "cell_type": "code",
   "execution_count": null,
   "metadata": {
    "collapsed": true
   },
   "outputs": [],
   "source": []
  }
 ],
 "metadata": {
  "kernelspec": {
   "display_name": "Python 2",
   "language": "python",
   "name": "python2"
  },
  "language_info": {
   "codemirror_mode": {
    "name": "ipython",
    "version": 2
   },
   "file_extension": ".py",
   "mimetype": "text/x-python",
   "name": "python",
   "nbconvert_exporter": "python",
   "pygments_lexer": "ipython2",
   "version": "2.7.12"
  }
 },
 "nbformat": 4,
 "nbformat_minor": 1
}
